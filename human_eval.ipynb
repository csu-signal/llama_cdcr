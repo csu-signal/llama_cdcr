{
  "cells": [
    {
      "cell_type": "code",
      "execution_count": null,
      "id": "c5bbb46e",
      "metadata": {
        "id": "c5bbb46e",
        "outputId": "75191c87-e067-41d7-cb67-a2a4a214f73d",
        "colab": {
          "base_uri": "https://localhost:8080/"
        }
      },
      "outputs": [
        {
          "output_type": "stream",
          "name": "stdout",
          "text": [
            "Collecting krippendorff\n",
            "  Downloading krippendorff-0.6.1-py3-none-any.whl (18 kB)\n",
            "Requirement already satisfied: numpy<2.0,>=1.21 in /usr/local/lib/python3.10/dist-packages (from krippendorff) (1.23.5)\n",
            "Installing collected packages: krippendorff\n",
            "Successfully installed krippendorff-0.6.1\n"
          ]
        }
      ],
      "source": [
        "pip install krippendorff"
      ]
    },
    {
      "cell_type": "code",
      "execution_count": null,
      "id": "8c556bf0",
      "metadata": {
        "id": "8c556bf0"
      },
      "outputs": [],
      "source": [
        "import pandas as pd\n",
        "import krippendorff\n",
        "import numpy as np\n",
        "from itertools import combinations"
      ]
    },
    {
      "cell_type": "code",
      "execution_count": null,
      "id": "38f7dca9",
      "metadata": {
        "id": "38f7dca9"
      },
      "outputs": [],
      "source": [
        "# Sample 1 data\n",
        "data_sample1 = [\n",
        "    [\"partially true\", \"Yes\", \"Yes\", \"Yes\", \"Enough\", \"Yes\", \"High overlap\"],\n",
        "    [\"generally true\", \"Yes\", \"Yes\", \"Yes\", \"Enough\", \"Yes\", \"Some overlap\"],\n",
        "    [\"partially true\", \"Yes\", \"Yes\", \"Yes\", \"Not Enough\", \"Yes\", \"Some overlap\"],\n",
        "    [\"partially true\", \"Yes\", \"No\", \"Not enough information\", \"Enough\", \"Yes\", \"High overlap\"]\n",
        "]\n",
        "\n",
        "# Sample 2 data\n",
        "data_sample2 = [\n",
        "    [\"generally true\", \"Yes\", \"No\", \"\", \"Enough\", \"Yes\", \"High overlap\"],\n",
        "    [\"generally true\", \"Yes\", \"No\", \"no new information\", \"Enough\", \"Yes\", \"High overlap\"],\n",
        "    [\"generally true\", \"Yes\", \"No\", \"\", \"Enough\", \"Yes\", \"High overlap\"],\n",
        "    [\"partially true\", \"Yes\", \"Yes\", \"No\", \"Enough\", \"Yes\", \"Some overlap\"]\n",
        "]\n",
        "\n",
        "# Sample 3 data\n",
        "data_sample3 = [\n",
        "    [\"\",\"\",\"\",\"\",\"\",\"\",\"\"],\n",
        "    [\"\",\"\",\"\",\"\",\"\",\"\",\"\"],\n",
        "    [\"generally false\", \"Yes\", \"Yes\", \"Yes\", \"Not Enough\", \"No\", \"Minimal overlap\"],\n",
        "    [\"Not enough information\", \"Yes\", \"Not enough information\", \"Not enough information\", \"Not Enough\", \"No\", \"Minimal overlap\"]\n",
        "]\n",
        "\n",
        "# Sample 4 data\n",
        "data_sample4 = [\n",
        "    [\"\",\"\",\"\",\"\",\"\",\"\",\"\"],\n",
        "    [\"\",\"\",\"\",\"\",\"\",\"\",\"\"],\n",
        "    [\"generally true\", \"Yes\", \"Yes\", \"Yes\", \"Enough\", \"Yes\", \"High overlap\"],\n",
        "    [\"generally true\", \"Yes\", \"Yes\", \"Yes\", \"Enough\", \"Yes\", \"High overlap\"]\n",
        "]\n",
        "\n",
        "# Sample 5 data\n",
        "data_sample5 = [\n",
        "    [\"\",\"\",\"\",\"\",\"\",\"\",\"\"],\n",
        "    [\"\",\"\",\"\",\"\",\"\",\"\",\"\"],\n",
        "    [\"generally true\", \"Yes\", \"No\", \"\", \"Enough\", \"Yes\", \"High overlap\"],\n",
        "    [\"generally true\", \"Yes\", \"No\", \"Not enough information\", \"Enough\", \"Yes\", \"High overlap\"]\n",
        "]\n",
        "\n",
        "# Sample 6 data\n",
        "data_sample6 = [\n",
        "    [\"generally true\", \"Yes\", \"No\", \"\", \"Enough\", \"Yes\", \"High overlap\"],\n",
        "    [\"generally true\", \"Yes\", \"No\", \"no new information\", \"Enough\", \"Yes\", \"High overlap\"],\n",
        "    [\"generally true\", \"Yes\", \"No\", \"Yes\", \"Enough\", \"Yes\", \"High overlap\"],\n",
        "    [\"generally true\", \"Yes\", \"No\", \"Not enough information\", \"Enough\", \"Yes\", \"High overlap\"]\n",
        "]\n",
        "\n",
        "# Create DataFrames\n",
        "columns = [\n",
        "    \"How factual is this Inner Monologue based explanation?\",\n",
        "    \"Is the Inner Monologue based explanation relevant to the context?\",\n",
        "    \"Does the Inner Monologue sample provide new facts, information or reasoning not stated in the pair of documents explicitly?\",\n",
        "    \"If you answered yes to the above question, is the new information or reasoning relevant to justifying the fact about the events?\",\n",
        "    \"How much information does the Inner Monologue sample have to justify the fact about the two events?\",\n",
        "    \"Is the Inner Monologue sample acceptable or plausible considering the context?\",\n",
        "    \"If you were to use your own inner-monologue-based reasoning to arrive at the FACT, how much of an overlap does your thought-patter have with the given Inner Monologue?\"\n",
        "]"
      ]
    },
    {
      "cell_type": "code",
      "execution_count": null,
      "id": "71f704ea",
      "metadata": {
        "id": "71f704ea",
        "outputId": "78d75029-daee-414b-ccd3-c3625929b6e9",
        "colab": {
          "base_uri": "https://localhost:8080/"
        }
      },
      "outputs": [
        {
          "output_type": "stream",
          "name": "stdout",
          "text": [
            "Krippendorff's Alpha for Sample 1: 0.25\n",
            "Krippendorff's Alpha for Sample 2: 0.04255319148936154\n",
            "Krippendorff's Alpha for Sample 3: -0.24225352112676068\n",
            "Krippendorff's Alpha for Sample 4: -0.2857142857142858\n",
            "Krippendorff's Alpha for Sample 5: -0.24615384615384617\n",
            "Krippendorff's Alpha for Sample 6: 0.4943820224719101\n",
            "Average Krippendorff's Alpha: 0.0021355934943964963\n"
          ]
        }
      ],
      "source": [
        "df_sample1 = pd.DataFrame(data_sample1, columns=columns)\n",
        "df_sample2 = pd.DataFrame(data_sample2, columns=columns)\n",
        "df_sample3 = pd.DataFrame(data_sample3, columns=columns)\n",
        "df_sample4 = pd.DataFrame(data_sample4, columns=columns)\n",
        "df_sample5 = pd.DataFrame(data_sample5, columns=columns)\n",
        "df_sample6 = pd.DataFrame(data_sample6, columns=columns)\n",
        "\n",
        "# Convert categorical data to numeric codes\n",
        "df_numeric_sample1 = df_sample1.apply(lambda x: pd.Categorical(x).codes)\n",
        "df_numeric_sample2 = df_sample2.apply(lambda x: pd.Categorical(x).codes)\n",
        "df_numeric_sample3 = df_sample3.apply(lambda x: pd.Categorical(x).codes)\n",
        "df_numeric_sample4 = df_sample4.apply(lambda x: pd.Categorical(x).codes)\n",
        "df_numeric_sample5 = df_sample5.apply(lambda x: pd.Categorical(x).codes)\n",
        "df_numeric_sample6 = df_sample6.apply(lambda x: pd.Categorical(x).codes)\n",
        "\n",
        "# Calculate Krippendorff's alpha for each sample\n",
        "alpha_sample1 = krippendorff.alpha(df_numeric_sample1.values)\n",
        "alpha_sample2 = krippendorff.alpha(df_numeric_sample2.values)\n",
        "alpha_sample3 = krippendorff.alpha(df_numeric_sample3.values)\n",
        "alpha_sample4 = krippendorff.alpha(df_numeric_sample4.values)\n",
        "alpha_sample5 = krippendorff.alpha(df_numeric_sample5.values)\n",
        "alpha_sample6 = krippendorff.alpha(df_numeric_sample6.values)\n",
        "\n",
        "# Calculate the average\n",
        "alpha_average = np.mean([alpha_sample1, alpha_sample2, alpha_sample3, alpha_sample4, alpha_sample5, alpha_sample6])\n",
        "\n",
        "# Print results\n",
        "print(\"Krippendorff's Alpha for Sample 1:\", alpha_sample1)\n",
        "print(\"Krippendorff's Alpha for Sample 2:\", alpha_sample2)\n",
        "print(\"Krippendorff's Alpha for Sample 3:\", alpha_sample3)\n",
        "print(\"Krippendorff's Alpha for Sample 4:\", alpha_sample4)\n",
        "print(\"Krippendorff's Alpha for Sample 5:\", alpha_sample5)\n",
        "print(\"Krippendorff's Alpha for Sample 6:\", alpha_sample6)\n",
        "\n",
        "print(\"Average Krippendorff's Alpha:\", alpha_average)"
      ]
    },
    {
      "cell_type": "code",
      "execution_count": null,
      "id": "89e7430f",
      "metadata": {
        "id": "89e7430f",
        "outputId": "4b746c1a-1926-42b6-f40d-d173776e4615",
        "colab": {
          "base_uri": "https://localhost:8080/"
        }
      },
      "outputs": [
        {
          "output_type": "stream",
          "name": "stdout",
          "text": [
            "Krippendorff's Alpha between Sample 1 and Sample 2: -0.13888888888888884\n",
            "Krippendorff's Alpha between Sample 1 and Sample 3: 0.31666666666666676\n",
            "Krippendorff's Alpha between Sample 1 and Sample 4: 0.31666666666666676\n",
            "Krippendorff's Alpha between Sample 1 and Sample 5: 0.39882697947214074\n",
            "Krippendorff's Alpha between Sample 1 and Sample 6: -0.15168539325842678\n",
            "Krippendorff's Alpha between Sample 2 and Sample 3: -0.20588235294117663\n",
            "Krippendorff's Alpha between Sample 2 and Sample 4: -0.20588235294117663\n",
            "Krippendorff's Alpha between Sample 2 and Sample 5: -0.17142857142857149\n",
            "Krippendorff's Alpha between Sample 2 and Sample 6: 0.652542372881356\n",
            "Krippendorff's Alpha between Sample 3 and Sample 4: 1.0\n",
            "Krippendorff's Alpha between Sample 3 and Sample 5: 0.8912466843501327\n",
            "Krippendorff's Alpha between Sample 3 and Sample 6: -0.014851485148514643\n",
            "Krippendorff's Alpha between Sample 4 and Sample 5: 0.8912466843501327\n",
            "Krippendorff's Alpha between Sample 4 and Sample 6: -0.014851485148514643\n",
            "Krippendorff's Alpha between Sample 5 and Sample 6: -0.18372703412073488\n",
            "\n",
            "Average Krippendorff's Alpha: 0.22533323270073946\n"
          ]
        }
      ],
      "source": [
        "df_sample1 = pd.DataFrame(data_sample1, columns=columns)\n",
        "df_sample2 = pd.DataFrame(data_sample2, columns=columns)\n",
        "df_sample3 = pd.DataFrame(data_sample3, columns=columns)\n",
        "df_sample4 = pd.DataFrame(data_sample4, columns=columns)\n",
        "df_sample5 = pd.DataFrame(data_sample5, columns=columns)\n",
        "df_sample6 = pd.DataFrame(data_sample6, columns=columns)\n",
        "\n",
        "# Create a list of DataFrames\n",
        "dataframes = [df_sample1, df_sample2, df_sample3, df_sample4, df_sample5, df_sample6]\n",
        "\n",
        "# List to store alpha values\n",
        "alpha_values = []\n",
        "\n",
        "# Iterate through all pairs of samples\n",
        "for i, (df1, df2) in enumerate(combinations(enumerate(dataframes, start=1), 2)):\n",
        "    idx1, sample1 = df1\n",
        "    idx2, sample2 = df2\n",
        "\n",
        "    # Convert categorical data to numeric codes\n",
        "    df_numeric1 = sample1.apply(lambda x: pd.Categorical(x).codes)\n",
        "    df_numeric2 = sample2.apply(lambda x: pd.Categorical(x).codes)\n",
        "\n",
        "    # Calculate Krippendorff's alpha for the pair\n",
        "    alpha_value = krippendorff.alpha([df_numeric1.values.flatten(), df_numeric2.values.flatten()])\n",
        "\n",
        "    # Append alpha value to the list\n",
        "    alpha_values.append(alpha_value)\n",
        "\n",
        "    # Print results\n",
        "    print(f\"Krippendorff's Alpha between Sample {idx1} and Sample {idx2}: {alpha_value}\")\n",
        "\n",
        "# Calculate the average\n",
        "average_alpha = np.mean(alpha_values)\n",
        "print(f\"\\nAverage Krippendorff's Alpha: {average_alpha}\")"
      ]
    },
    {
      "cell_type": "markdown",
      "id": "3c8b2e0c",
      "metadata": {
        "id": "3c8b2e0c"
      },
      "source": [
        "# GVC"
      ]
    },
    {
      "cell_type": "code",
      "execution_count": null,
      "id": "6da86b00",
      "metadata": {
        "id": "6da86b00"
      },
      "outputs": [],
      "source": [
        "# Sample 1 data\n",
        "data_sample1 = [\n",
        "    [\"partially true\", \"No\", \"Yes\", \"No\", \"Not Enough\", \"No\", \"Minimal overlap\"],\n",
        "    [\"partially true\", \"Yes\", \"No\", \"\", \"Not Enough\", \"Yes\", \"Some overlap\"],\n",
        "    [\"generally true\", \"Yes\", \"No\", \"\", \"Enough\", \"Yes\", \"High overlap\"],\n",
        "    [\"generally false\", \"Yes\", \"Yes\", \"No\", \"Not Enough\", \"Can't say\", \"No overlap\"]\n",
        "]\n",
        "\n",
        "# Sample 2 data\n",
        "\n",
        "data_sample2 = [\n",
        "    [\"partially true\", \"Yes\", \"Yes\", \"No\", \"Enough\", \"Yes\", \"Some overlap\"],\n",
        "    [\"generally true\", \"Yes\", \"No\", \"\", \"Enough\", \"Yes\", \"High overlap\"],\n",
        "    [\"partially true\", \"Yes\", \"Yes\", \"No\", \"Enough\", \"Yes\", \"Some overlap\"],\n",
        "    [\"generally true\", \"Yes\", \"Yes\", \"Yes\", \"Enough\", \"Yes\", \"High overlap\"],\n",
        "]\n",
        "\n",
        "# Sample 3 data\n",
        "data_sample3 = [\n",
        "    [\"generally true\", \"Yes\", \"No\", \"\", \"Not Enough\", \"Yes\", \"High overlap\"],\n",
        "    [\"generally true\", \"Yes\", \"No\", \"\", \"Enough\", \"Yes\", \"High overlap\"],\n",
        "    [\"generally true\", \"Yes\", \"No\", \"\", \"Not Enough\", \"No\", \"Some overlap\"],\n",
        "    [\"generally false\", \"Yes\", \"Yes\", \"Not Enough\", \"No\", \"No overlap\"]\n",
        "]\n",
        "\n",
        "# Sample 4 data\n",
        "data_sample4 = [\n",
        "    [\"generally true\", \"Yes\", \"No\", \"\", \"Not Enough\", \"Yes\", \"High overlap\"],\n",
        "    [\"generally true\", \"Yes\", \"No\", \"\", \"Enough\", \"Yes\", \"High overlap\"],\n",
        "    [\"generally true\", \"Yes\", \"No\", \"\", \"Enough\", \"Yes\", \"High overlap\"],\n",
        "    [\"generally true\", \"Yes\", \"Yes\", \"Yes\", \"Enough\", \"Yes\", \"Some overlap\"]\n",
        "]\n",
        "\n",
        "# Sample 5 data\n",
        "data_sample5 = [\n",
        "    [\"partially true\", \"No\", \"Yes\", \"No\", \"Not Enough\", \"Yes\", \"Some overlap\"],\n",
        "    [\"generally true\", \"Yes\", \"No\", \"\", \"Enough\", \"Yes\", \"High overlap\"],\n",
        "    [\"generally true\", \"Yes\", \"No\", \"\", \"Enough\", \"Yes\", \"High overlap\"],\n",
        "    [\"generally true\", \"Yes\", \"Yes\", \"Yes\", \"Not enough\", \"Yes\", \"Some overlap\"]\n",
        "]\n",
        "\n",
        "# Sample 6 data\n",
        "data_sample6 = [\n",
        "    [\"generally true\", \"Yes\", \"No\", \"\", \"Enough\", \"Yes\", \"High overlap\"],\n",
        "    [\"generally true\", \"Yes\", \"No\", \"\", \"Enough\", \"Yes\", \"High overlap\"],\n",
        "    [\"generally true\", \"Yes\", \"No\", \"\", \"Enough\", \"Yes\", \"High overlap\"],\n",
        "    [\"partially true\", \"Yes\", \"Yes\", \"Yes\", \"Enough\", \"Yes\", \"High overlap\"]\n",
        "]\n",
        "\n",
        "# Create DataFrames\n",
        "columns = [\n",
        "    \"How factual is this Inner Monologue based explanation?\",\n",
        "    \"Is the Inner Monologue based explanation relevant to the context?\",\n",
        "    \"Does the Inner Monologue sample provide new facts, information or reasoning not stated in the pair of documents explicitly?\",\n",
        "    \"If you answered yes to the above question, is the new information or reasoning relevant to justifying the fact about the events?\",\n",
        "    \"How much information does the Inner Monologue sample have to justify the fact about the two events?\",\n",
        "    \"Is the Inner Monologue sample acceptable or plausible considering the context?\",\n",
        "    \"If you were to use your own inner-monologue-based reasoning to arrive at the FACT, how much of an overlap does your thought-patter have with the given Inner Monologue?\"\n",
        "]"
      ]
    },
    {
      "cell_type": "code",
      "execution_count": null,
      "id": "ffdb640d",
      "metadata": {
        "id": "ffdb640d",
        "outputId": "db18ea40-c1fb-4cfe-afa6-d3bddeebfcdf"
      },
      "outputs": [
        {
          "name": "stdout",
          "output_type": "stream",
          "text": [
            "Krippendorff's Alpha for Sample 1: -0.007999999999999785\n",
            "Krippendorff's Alpha for Sample 2: 0.29629629629629617\n",
            "Krippendorff's Alpha for Sample 3: 0.2610526315789474\n",
            "Krippendorff's Alpha for Sample 4: -0.125\n",
            "Krippendorff's Alpha for Sample 5: -0.05194805194805219\n",
            "Krippendorff's Alpha for Sample 6: -0.08000000000000007\n",
            "Average Krippendorff's Alpha: 0.04873347932119859\n"
          ]
        }
      ],
      "source": [
        "df_sample1 = pd.DataFrame(data_sample1, columns=columns)\n",
        "df_sample2 = pd.DataFrame(data_sample2, columns=columns)\n",
        "df_sample3 = pd.DataFrame(data_sample3, columns=columns)\n",
        "df_sample4 = pd.DataFrame(data_sample4, columns=columns)\n",
        "df_sample5 = pd.DataFrame(data_sample5, columns=columns)\n",
        "df_sample6 = pd.DataFrame(data_sample6, columns=columns)\n",
        "\n",
        "# Convert categorical data to numeric codes\n",
        "df_numeric_sample1 = df_sample1.apply(lambda x: pd.Categorical(x).codes)\n",
        "df_numeric_sample2 = df_sample2.apply(lambda x: pd.Categorical(x).codes)\n",
        "df_numeric_sample3 = df_sample3.apply(lambda x: pd.Categorical(x).codes)\n",
        "df_numeric_sample4 = df_sample4.apply(lambda x: pd.Categorical(x).codes)\n",
        "df_numeric_sample5 = df_sample5.apply(lambda x: pd.Categorical(x).codes)\n",
        "df_numeric_sample6 = df_sample6.apply(lambda x: pd.Categorical(x).codes)\n",
        "\n",
        "# Calculate Krippendorff's alpha for each sample\n",
        "alpha_sample1 = krippendorff.alpha(df_numeric_sample1.values)\n",
        "alpha_sample2 = krippendorff.alpha(df_numeric_sample2.values)\n",
        "alpha_sample3 = krippendorff.alpha(df_numeric_sample3.values)\n",
        "alpha_sample4 = krippendorff.alpha(df_numeric_sample4.values)\n",
        "alpha_sample5 = krippendorff.alpha(df_numeric_sample5.values)\n",
        "alpha_sample6 = krippendorff.alpha(df_numeric_sample6.values)\n",
        "\n",
        "# Calculate the average\n",
        "alpha_average = np.mean([alpha_sample1, alpha_sample2, alpha_sample3, alpha_sample4, alpha_sample5, alpha_sample6])\n",
        "\n",
        "# Print results\n",
        "print(\"Krippendorff's Alpha for Sample 1:\", alpha_sample1)\n",
        "print(\"Krippendorff's Alpha for Sample 2:\", alpha_sample2)\n",
        "print(\"Krippendorff's Alpha for Sample 3:\", alpha_sample3)\n",
        "print(\"Krippendorff's Alpha for Sample 4:\", alpha_sample4)\n",
        "print(\"Krippendorff's Alpha for Sample 5:\", alpha_sample5)\n",
        "print(\"Krippendorff's Alpha for Sample 6:\", alpha_sample6)\n",
        "\n",
        "print(\"Average Krippendorff's Alpha:\", alpha_average)"
      ]
    },
    {
      "cell_type": "code",
      "execution_count": null,
      "id": "f68b8283",
      "metadata": {
        "id": "f68b8283",
        "outputId": "da54bf06-8f0f-4690-9500-016c7b8bcfd8"
      },
      "outputs": [
        {
          "name": "stdout",
          "output_type": "stream",
          "text": [
            "Krippendorff's Alpha between Sample 1 and Sample 2: -0.189362945645821\n",
            "Krippendorff's Alpha between Sample 1 and Sample 3: -0.03573153066151624\n",
            "Krippendorff's Alpha between Sample 1 and Sample 4: -0.18138424821002408\n",
            "Krippendorff's Alpha between Sample 1 and Sample 5: 0.125\n",
            "Krippendorff's Alpha between Sample 1 and Sample 6: -0.34306134603930905\n",
            "Krippendorff's Alpha between Sample 2 and Sample 3: 0.015151515151514916\n",
            "Krippendorff's Alpha between Sample 2 and Sample 4: 0.16781292984869334\n",
            "Krippendorff's Alpha between Sample 2 and Sample 5: 0.35643564356435653\n",
            "Krippendorff's Alpha between Sample 2 and Sample 6: 0.2142857142857142\n",
            "Krippendorff's Alpha between Sample 3 and Sample 4: -0.0015835312747425334\n",
            "Krippendorff's Alpha between Sample 3 and Sample 5: -0.01786853860880666\n",
            "Krippendorff's Alpha between Sample 3 and Sample 6: -0.06109324758842449\n",
            "Krippendorff's Alpha between Sample 4 and Sample 5: 0.27312775330396466\n",
            "Krippendorff's Alpha between Sample 4 and Sample 6: 0.5189504373177842\n",
            "Krippendorff's Alpha between Sample 5 and Sample 6: 0.06989853438556937\n",
            "\n",
            "Average Krippendorff's Alpha: 0.06070514265526354\n"
          ]
        }
      ],
      "source": [
        "df_sample1 = pd.DataFrame(data_sample1, columns=columns)\n",
        "df_sample2 = pd.DataFrame(data_sample2, columns=columns)\n",
        "df_sample3 = pd.DataFrame(data_sample3, columns=columns)\n",
        "df_sample4 = pd.DataFrame(data_sample4, columns=columns)\n",
        "df_sample5 = pd.DataFrame(data_sample5, columns=columns)\n",
        "df_sample6 = pd.DataFrame(data_sample6, columns=columns)\n",
        "\n",
        "# Create a list of DataFrames\n",
        "dataframes = [df_sample1, df_sample2, df_sample3, df_sample4, df_sample5, df_sample6]\n",
        "\n",
        "# List to store alpha values\n",
        "alpha_values = []\n",
        "\n",
        "# Iterate through all pairs of samples\n",
        "for i, (df1, df2) in enumerate(combinations(enumerate(dataframes, start=1), 2)):\n",
        "    idx1, sample1 = df1\n",
        "    idx2, sample2 = df2\n",
        "\n",
        "    # Convert categorical data to numeric codes\n",
        "    df_numeric1 = sample1.apply(lambda x: pd.Categorical(x).codes)\n",
        "    df_numeric2 = sample2.apply(lambda x: pd.Categorical(x).codes)\n",
        "\n",
        "    # Calculate Krippendorff's alpha for the pair\n",
        "    alpha_value = krippendorff.alpha([df_numeric1.values.flatten(), df_numeric2.values.flatten()])\n",
        "\n",
        "    # Append alpha value to the list\n",
        "    alpha_values.append(alpha_value)\n",
        "\n",
        "    # Print results\n",
        "    print(f\"Krippendorff's Alpha between Sample {idx1} and Sample {idx2}: {alpha_value}\")\n",
        "\n",
        "# Calculate the average\n",
        "average_alpha = np.mean(alpha_values)\n",
        "print(f\"\\nAverage Krippendorff's Alpha: {average_alpha}\")"
      ]
    },
    {
      "cell_type": "code",
      "execution_count": null,
      "id": "1cc1263c",
      "metadata": {
        "id": "1cc1263c"
      },
      "outputs": [],
      "source": []
    }
  ],
  "metadata": {
    "kernelspec": {
      "display_name": "Python 3 (ipykernel)",
      "language": "python",
      "name": "python3"
    },
    "language_info": {
      "codemirror_mode": {
        "name": "ipython",
        "version": 3
      },
      "file_extension": ".py",
      "mimetype": "text/x-python",
      "name": "python",
      "nbconvert_exporter": "python",
      "pygments_lexer": "ipython3",
      "version": "3.11.1"
    },
    "colab": {
      "provenance": []
    }
  },
  "nbformat": 4,
  "nbformat_minor": 5
}